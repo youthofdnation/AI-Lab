{
 "cells": [
  {
   "cell_type": "code",
   "execution_count": 1,
   "metadata": {},
   "outputs": [
    {
     "name": "stdout",
     "output_type": "stream",
     "text": [
      "Requirement already satisfied: pyttsx3 in c:\\python312\\lib\\site-packages (2.98)\n",
      "Requirement already satisfied: comtypes in c:\\python312\\lib\\site-packages (from pyttsx3) (1.4.10)\n",
      "Requirement already satisfied: pypiwin32 in c:\\python312\\lib\\site-packages (from pyttsx3) (223)\n",
      "Requirement already satisfied: pywin32 in c:\\users\\노규남\\appdata\\roaming\\python\\python312\\site-packages (from pyttsx3) (308)\n"
     ]
    },
    {
     "name": "stderr",
     "output_type": "stream",
     "text": [
      "\n",
      "[notice] A new release of pip is available: 24.2 -> 25.0.1\n",
      "[notice] To update, run: python.exe -m pip install --upgrade pip\n"
     ]
    }
   ],
   "source": [
    "!pip install pyttsx3 \n",
    "\n",
    "# Windows: SAPI5(Microsoft Speech API)\n",
    "# macOS: NSSpeechSynthesizer\n",
    "# Linux: espeak"
   ]
  },
  {
   "cell_type": "code",
   "execution_count": 2,
   "metadata": {},
   "outputs": [],
   "source": [
    "import pyttsx3\n",
    "\n",
    "engine = pyttsx3.init()\n",
    "engine.say(\"안녕하세요. 이것은 로컬 음성 합성 테스트입니다.\")\n",
    "engine.runAndWait()"
   ]
  },
  {
   "cell_type": "code",
   "execution_count": 3,
   "metadata": {},
   "outputs": [],
   "source": [
    "import pyttsx3\n",
    "\n",
    "engine = pyttsx3.init()\n",
    "engine.say(\"Hello, this is a local voice synthesis test.\")\n",
    "engine.runAndWait()"
   ]
  },
  {
   "cell_type": "code",
   "execution_count": 4,
   "metadata": {},
   "outputs": [
    {
     "name": "stdout",
     "output_type": "stream",
     "text": [
      "Voice 0: Microsoft Heami Desktop - Korean, Lang: []\n",
      "Voice 1: Microsoft Zira Desktop - English (United States), Lang: []\n",
      "Voice 2: Microsoft Huihui Desktop - Chinese (Simplified), Lang: []\n"
     ]
    }
   ],
   "source": [
    "import pyttsx3\n",
    "\n",
    "engine = pyttsx3.init()\n",
    "voices = engine.getProperty('voices')\n",
    "\n",
    "for index, voice in enumerate(voices):\n",
    "    print(f\"Voice {index}: {voice.name}, Lang: {voice.languages if hasattr(voice, 'languages') else 'Unknown'}\")\n"
   ]
  },
  {
   "cell_type": "code",
   "execution_count": 5,
   "metadata": {},
   "outputs": [],
   "source": [
    "engine.setProperty('voice', voices[0].id)  # 원하는 인덱스로 변경\n",
    "engine.say(\"안녕하세요. 파이썬을 사용한 TTS입니다.\")\n",
    "engine.runAndWait()"
   ]
  },
  {
   "cell_type": "code",
   "execution_count": 6,
   "metadata": {},
   "outputs": [],
   "source": [
    "engine.setProperty('voice', voices[1].id)  \n",
    "engine.say(\"Hello. This is a TTS using python.\")\n",
    "engine.runAndWait()"
   ]
  },
  {
   "cell_type": "code",
   "execution_count": 7,
   "metadata": {},
   "outputs": [],
   "source": [
    "lang_code = \"ko\"  # 원하는 언어 코드 (예: 한국어 \"ko\", 영어 \"en\")\n",
    "\n",
    "selected_voice = None\n",
    "for voice in voices:\n",
    "    if lang_code in voice.id.lower():  # 혹은 voice.languages 속성 활용 가능\n",
    "        selected_voice = voice.id\n",
    "        break\n",
    "\n",
    "if selected_voice:\n",
    "    engine.setProperty('voice', selected_voice)\n",
    "    engine.say(\"안녕하세요. 이 음성은 한국어로 설정되었습니다.\")\n",
    "    engine.runAndWait()\n",
    "else:\n",
    "    print(\"해당 언어의 음성을 찾을 수 없습니다.\")\n"
   ]
  },
  {
   "cell_type": "code",
   "execution_count": 8,
   "metadata": {},
   "outputs": [
    {
     "name": "stdout",
     "output_type": "stream",
     "text": [
      "해당 언어의 음성을 찾을 수 없습니다.\n"
     ]
    }
   ],
   "source": [
    "lang_code = \"jp\" \n",
    "\n",
    "selected_voice = None\n",
    "for voice in voices:\n",
    "    if lang_code in voice.id.lower():  \n",
    "        selected_voice = voice.id\n",
    "        break\n",
    "\n",
    "if selected_voice:\n",
    "    engine.setProperty('voice', selected_voice)\n",
    "    engine.say(\"こんにちは。この音声は日本語に設定されました。\")\n",
    "    engine.runAndWait()\n",
    "else:\n",
    "    print(\"해당 언어의 음성을 찾을 수 없습니다.\")\n"
   ]
  }
 ],
 "metadata": {
  "kernelspec": {
   "display_name": "Python 3",
   "language": "python",
   "name": "python3"
  },
  "language_info": {
   "codemirror_mode": {
    "name": "ipython",
    "version": 3
   },
   "file_extension": ".py",
   "mimetype": "text/x-python",
   "name": "python",
   "nbconvert_exporter": "python",
   "pygments_lexer": "ipython3",
   "version": "3.12.7"
  }
 },
 "nbformat": 4,
 "nbformat_minor": 2
}
