{
 "cells": [
  {
   "cell_type": "code",
   "execution_count": null,
   "metadata": {},
   "outputs": [],
   "source": [
    "!pip install gtts"
   ]
  },
  {
   "cell_type": "code",
   "execution_count": 6,
   "metadata": {},
   "outputs": [
    {
     "data": {
      "text/plain": [
       "0"
      ]
     },
     "execution_count": 6,
     "metadata": {},
     "output_type": "execute_result"
    }
   ],
   "source": [
    "from gtts import gTTS\n",
    "import os\n",
    "\n",
    "text = \"안녕하세요, 윈도우에서 Google TTS를 사용하고 있습니다.\"\n",
    "tts = gTTS(text=text, lang=\"ko\")\n",
    "tts.save(\"output.mp3\")  # 음성을 mp3 파일로 저장\n",
    "os.system(\"start output.mp3\")  # 파일 실행"
   ]
  },
  {
   "cell_type": "code",
   "execution_count": null,
   "metadata": {},
   "outputs": [],
   "source": [
    "!pip install google-cloud-texttospeech\n",
    "\n",
    "# Google Cloud Console에 접속, 프로젝트 선택 혹은 생성 (https://console.cloud.google.com/)\n",
    "# API 및 서비스 > 라이브러리로 이동, Cloud Text-to-Speech API를 검색하고 선택. 활성화 버튼을 클릭 (유료계정)\n",
    "# 서비스 계정 목록에서 방금 만든 서비스 계정 클릭\n",
    "# 키(Key) 탭 → 키 추가 → 새 키 만들기\n",
    "# JSON 선택 후 만들기 클릭\n",
    "\n",
    "# 윈도우: set GOOGLE_APPLICATION_CREDENTIALS=C:\\path\\to\\your-key.json\n",
    "# Linux: export GOOGLE_APPLICATION_CREDENTIALS=\"/path/to/your-key.json\"\n"
   ]
  },
  {
   "cell_type": "code",
   "execution_count": null,
   "metadata": {},
   "outputs": [],
   "source": [
    "from google.cloud import texttospeech\n",
    "\n",
    "client = texttospeech.TextToSpeechClient()\n",
    "\n",
    "synthesis_input = texttospeech.SynthesisInput(text=\"안녕하세요, 구글 TTS API입니다.\")\n",
    "\n",
    "voice = texttospeech.VoiceSelectionParams(\n",
    "    language_code=\"ko-KR\", ssml_gender=texttospeech.SsmlVoiceGender.NEUTRAL\n",
    ")\n",
    "\n",
    "audio_config = texttospeech.AudioConfig(\n",
    "    audio_encoding=texttospeech.AudioEncoding.MP3\n",
    ")\n",
    "\n",
    "response = client.synthesize_speech(\n",
    "    input=synthesis_input, voice=voice, audio_config=audio_config\n",
    ")\n",
    "\n",
    "with open(\"output.mp3\", \"wb\") as out:\n",
    "    out.write(response.audio_content)\n",
    "\n",
    "print(\"음성 파일이 생성되었습니다: output.mp3\")\n"
   ]
  }
 ],
 "metadata": {
  "kernelspec": {
   "display_name": "Python 3",
   "language": "python",
   "name": "python3"
  },
  "language_info": {
   "codemirror_mode": {
    "name": "ipython",
    "version": 3
   },
   "file_extension": ".py",
   "mimetype": "text/x-python",
   "name": "python",
   "nbconvert_exporter": "python",
   "pygments_lexer": "ipython3",
   "version": "3.12.7"
  }
 },
 "nbformat": 4,
 "nbformat_minor": 2
}
