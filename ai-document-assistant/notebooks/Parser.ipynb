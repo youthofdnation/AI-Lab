{
 "cells": [
  {
   "cell_type": "markdown",
   "metadata": {},
   "source": [
    "### PydanticOutputParser"
   ]
  },
  {
   "cell_type": "code",
   "execution_count": 1,
   "metadata": {},
   "outputs": [],
   "source": [
    "from langchain_openai import ChatOpenAI\n",
    "from langchain_core.output_parsers import PydanticOutputParser\n",
    "from pydantic import BaseModel, Field\n",
    "import os\n",
    "\n",
    "llm = ChatOpenAI(temperature=0, model_name=os.getenv(\"OPENAI_DEFAULT_MODEL\"))"
   ]
  },
  {
   "cell_type": "code",
   "execution_count": 2,
   "metadata": {},
   "outputs": [],
   "source": [
    "email_conversation = \"\"\"From: 교육담당자 (edu@sw.or.kr)\"\n",
    "To: 노규남 (bardroh@weable.ai)\n",
    "Subject: 4월 회원지원 교육 안내\n",
    "\n",
    " 문의사항이 있으신 경우 담당자에게 연락 바랍니다.\n",
    "\n",
    "* 선착순 모집이며 조기 마감될 수 있습니다.\n",
    "\n",
    "* 오프라인과 온라인 수업이 동시에 있는 경우, 동시 접수가 불가능합니다.\n",
    "\n",
    "* 4월 24일(목) 종합소득세와 소득세 원천징수 온라인 교육이 있습니다.\n",
    "\n",
    "그외의 교육은 오프라인 교육입니다.\n",
    "\n",
    "* 온라인으로 교육 참여하시는 경우 교재 파일 링크를 제공해드리며 별도 실물 교재는 제공해 드리지 않습니다.\n",
    "\"\"\""
   ]
  },
  {
   "cell_type": "code",
   "execution_count": 3,
   "metadata": {},
   "outputs": [
    {
     "data": {
      "text/plain": [
       "AIMessage(content='중요한 내용 요약:\\n\\n- **교육 일정**: 4월 24일(목) 종합소득세와 소득세 원천징수 온라인 교육\\n- **모집 방식**: 선착순 모집, 조기 마감 가능\\n- **수업 형태**: 오프라인과 온라인 수업 동시 접수 불가\\n- **교재 제공**: 온라인 참여 시 교재 파일 링크 제공, 실물 교재는 제공되지 않음\\n- **문의**: 문의사항은 담당자에게 연락 필요', additional_kwargs={'refusal': None}, response_metadata={'token_usage': {'completion_tokens': 117, 'prompt_tokens': 173, 'total_tokens': 290, 'completion_tokens_details': {'accepted_prediction_tokens': 0, 'audio_tokens': 0, 'reasoning_tokens': 0, 'rejected_prediction_tokens': 0}, 'prompt_tokens_details': {'audio_tokens': 0, 'cached_tokens': 0}}, 'model_name': 'gpt-4o-mini-2024-07-18', 'system_fingerprint': 'fp_b8bc95a0ac', 'id': 'chatcmpl-BEaMk8DNlgI05vcTUDD5X3uBaOJje', 'finish_reason': 'stop', 'logprobs': None}, id='run-c077f136-a321-4f25-a48a-6321c6c5f8dc-0', usage_metadata={'input_tokens': 173, 'output_tokens': 117, 'total_tokens': 290, 'input_token_details': {'audio': 0, 'cache_read': 0}, 'output_token_details': {'audio': 0, 'reasoning': 0}})"
      ]
     },
     "execution_count": 3,
     "metadata": {},
     "output_type": "execute_result"
    }
   ],
   "source": [
    "from itertools import chain\n",
    "from langchain_core.prompts import PromptTemplate\n",
    "\n",
    "prompt = PromptTemplate.from_template(\n",
    "    \"다음의 이메일 내용중 중요한 내용을 추출해 주세요.\\n\\n{email_conversation}\"\n",
    ")\n",
    "\n",
    "chain = prompt | llm\n",
    "chain.invoke({\"email_conversation\": email_conversation})"
   ]
  },
  {
   "cell_type": "code",
   "execution_count": 4,
   "metadata": {},
   "outputs": [
    {
     "name": "stdout",
     "output_type": "stream",
     "text": [
      "The output should be formatted as a JSON instance that conforms to the JSON schema below.\n",
      "\n",
      "As an example, for the schema {\"properties\": {\"foo\": {\"title\": \"Foo\", \"description\": \"a list of strings\", \"type\": \"array\", \"items\": {\"type\": \"string\"}}}, \"required\": [\"foo\"]}\n",
      "the object {\"foo\": [\"bar\", \"baz\"]} is a well-formatted instance of the schema. The object {\"properties\": {\"foo\": [\"bar\", \"baz\"]}} is not well-formatted.\n",
      "\n",
      "Here is the output schema:\n",
      "```\n",
      "{\"properties\": {\"person\": {\"description\": \"메일을 보낸 사람\", \"title\": \"Person\", \"type\": \"string\"}, \"email\": {\"description\": \"메일을 보낸 사람의 이메일 주소\", \"title\": \"Email\", \"type\": \"string\"}, \"subject\": {\"description\": \"메일 제목\", \"title\": \"Subject\", \"type\": \"string\"}, \"summary\": {\"description\": \"메일 본문을 요약한 텍스트\", \"title\": \"Summary\", \"type\": \"string\"}, \"date\": {\"description\": \"메일 본문에 언급된 날짜\", \"title\": \"Date\", \"type\": \"string\"}}, \"required\": [\"person\", \"email\", \"subject\", \"summary\", \"date\"]}\n",
      "```\n"
     ]
    }
   ],
   "source": [
    "class EmailSummary(BaseModel):\n",
    "    person: str = Field(description=\"메일을 보낸 사람\")\n",
    "    email: str = Field(description=\"메일을 보낸 사람의 이메일 주소\")\n",
    "    subject: str = Field(description=\"메일 제목\")\n",
    "    summary: str = Field(description=\"메일 본문을 요약한 텍스트\")\n",
    "    date: str = Field(description=\"메일 본문에 언급된 날짜\")\n",
    "\n",
    "parser = PydanticOutputParser(pydantic_object=EmailSummary)\n",
    "print(parser.get_format_instructions())"
   ]
  },
  {
   "cell_type": "code",
   "execution_count": 5,
   "metadata": {},
   "outputs": [],
   "source": [
    "prompt = PromptTemplate.from_template(\n",
    "    \"\"\"\n",
    "You are a helpful assistant. Please answer the following questions in KOREAN.\n",
    "\n",
    "QUESTION:\n",
    "{question}\n",
    "\n",
    "EMAIL CONVERSATION:\n",
    "{email_conversation}\n",
    "\n",
    "FORMAT:\n",
    "{format}\n",
    "\"\"\"\n",
    ")\n",
    "\n",
    "prompt = prompt.partial(format=parser.get_format_instructions())"
   ]
  },
  {
   "cell_type": "code",
   "execution_count": 6,
   "metadata": {},
   "outputs": [
    {
     "name": "stdout",
     "output_type": "stream",
     "text": [
      "content='```json\\n{\\n  \"person\": \"교육담당자\",\\n  \"email\": \"edu@sw.or.kr\",\\n  \"subject\": \"4월 회원지원 교육 안내\",\\n  \"summary\": \"4월 24일(목) 종합소득세와 소득세 원천징수 온라인 교육이 있으며, 선착순 모집으로 조기 마감될 수 있습니다. 온라인 교육 참여 시 실물 교재는 제공되지 않고, 교재 파일 링크가 제공됩니다.\",\\n  \"date\": \"2024-04-24\"\\n}\\n```' additional_kwargs={'refusal': None} response_metadata={'token_usage': {'completion_tokens': 117, 'prompt_tokens': 474, 'total_tokens': 591, 'completion_tokens_details': {'accepted_prediction_tokens': 0, 'audio_tokens': 0, 'reasoning_tokens': 0, 'rejected_prediction_tokens': 0}, 'prompt_tokens_details': {'audio_tokens': 0, 'cached_tokens': 0}}, 'model_name': 'gpt-4o-mini-2024-07-18', 'system_fingerprint': 'fp_b8bc95a0ac', 'id': 'chatcmpl-BEaRuEfMznu9yYrcX0eTSOtYqYtes', 'finish_reason': 'stop', 'logprobs': None} id='run-4f3f3189-cf5c-4d91-a568-9b9854a6ad93-0' usage_metadata={'input_tokens': 474, 'output_tokens': 117, 'total_tokens': 591, 'input_token_details': {'audio': 0, 'cache_read': 0}, 'output_token_details': {'audio': 0, 'reasoning': 0}}\n"
     ]
    }
   ],
   "source": [
    "chain = prompt | llm\n",
    "answer = chain.invoke({\"email_conversation\": email_conversation,\n",
    "              \"question\": \"다음의 이메일 내용중 중요한 내용을 추출해 주세요.\"\n",
    "})\n",
    "print(answer)"
   ]
  },
  {
   "cell_type": "code",
   "execution_count": 7,
   "metadata": {},
   "outputs": [
    {
     "name": "stdout",
     "output_type": "stream",
     "text": [
      "person='교육담당자' email='edu@sw.or.kr' subject='4월 회원지원 교육 안내' summary='4월 24일(목) 종합소득세와 소득세 원천징수 온라인 교육이 있으며, 선착순 모집으로 조기 마감될 수 있습니다. 온라인 교육 참여 시 실물 교재는 제공되지 않고, 교재 파일 링크가 제공됩니다.' date='2024-04-24'\n"
     ]
    }
   ],
   "source": [
    "structured_output = parser.parse(answer.content)\n",
    "print(structured_output)"
   ]
  },
  {
   "cell_type": "code",
   "execution_count": 8,
   "metadata": {},
   "outputs": [
    {
     "data": {
      "text/plain": [
       "EmailSummary(person='교육담당자', email='edu@sw.or.kr', subject='4월 회원지원 교육 안내', summary='4월 24일(목) 종합소득세와 소득세 원천징수 온라인 교육이 있으며, 선착순 모집으로 조기 마감될 수 있습니다. 오프라인 교육도 진행되며, 온라인 참여 시 교재 파일 링크만 제공됩니다.', date='2024-04-24')"
      ]
     },
     "execution_count": 8,
     "metadata": {},
     "output_type": "execute_result"
    }
   ],
   "source": [
    "chain = prompt | llm | parser\n",
    "response = chain.invoke(\n",
    "    {\n",
    "        \"email_conversation\": email_conversation,\n",
    "        \"question\": \"이메일 내용중 주요 내용을 추출해 주세요.\",\n",
    "    }\n",
    ")\n",
    "response"
   ]
  },
  {
   "cell_type": "code",
   "execution_count": 9,
   "metadata": {},
   "outputs": [
    {
     "data": {
      "text/plain": [
       "EmailSummary(person='노규남', email='edu@sw.or.kr', subject='4월 회원지원 교육 안내', summary='4월 24일(목)에 종합소득세와 소득세 원천징수 온라인 교육이 있으며, 선착순 모집으로 조기 마감될 수 있습니다. 오프라인 교육도 진행되며, 온라인 참여 시 교재 파일 링크가 제공됩니다. 동시 접수는 불가능합니다.', date='2023-04-24')"
      ]
     },
     "execution_count": 9,
     "metadata": {},
     "output_type": "execute_result"
    }
   ],
   "source": [
    "llm_with_structered = ChatOpenAI(\n",
    "    temperature=0, model_name=os.getenv(\"OPENAI_DEFAULT_MODEL\")\n",
    ").with_structured_output(EmailSummary)\n",
    "\n",
    "answer = llm_with_structered.invoke(email_conversation)\n",
    "answer"
   ]
  },
  {
   "cell_type": "markdown",
   "metadata": {},
   "source": [
    "### CommaSeparatedListOutputParser"
   ]
  },
  {
   "cell_type": "code",
   "execution_count": 10,
   "metadata": {},
   "outputs": [
    {
     "data": {
      "text/plain": [
       "'Your response should be a list of comma separated values, eg: `foo, bar, baz` or `foo,bar,baz`'"
      ]
     },
     "execution_count": 10,
     "metadata": {},
     "output_type": "execute_result"
    }
   ],
   "source": [
    "from langchain_core.output_parsers import CommaSeparatedListOutputParser\n",
    "from langchain_core.prompts import PromptTemplate\n",
    "from langchain_openai import ChatOpenAI\n",
    "\n",
    "output_parser = CommaSeparatedListOutputParser()\n",
    "\n",
    "format_instructions = output_parser.get_format_instructions()\n",
    "format_instructions"
   ]
  },
  {
   "cell_type": "code",
   "execution_count": 11,
   "metadata": {},
   "outputs": [],
   "source": [
    "\n",
    "prompt = PromptTemplate(\n",
    "    template=\"List 10 {subject}.\\n{format_instructions}\",\n",
    "    input_variables=[\"subject\"], \n",
    "    partial_variables={\"format_instructions\": format_instructions}, # 미리 값이 지정되어 있으나 오버라이드 가능한 변수\n",
    ")\n",
    "\n",
    "model = ChatOpenAI(temperature=0, model_name=os.getenv(\"OPENAI_DEFAULT_MODEL\"))\n",
    "\n",
    "chain = prompt | model | output_parser"
   ]
  },
  {
   "cell_type": "code",
   "execution_count": 12,
   "metadata": {},
   "outputs": [
    {
     "data": {
      "text/plain": [
       "['옐로스톤',\n",
       " '그랜드 캐니언',\n",
       " '요세미티',\n",
       " '자이언',\n",
       " '스모키 마운틴',\n",
       " '아카디아',\n",
       " '시에라 네바다',\n",
       " '올림픽',\n",
       " '그레이트 스모키 마운틴',\n",
       " '세쿼이아']"
      ]
     },
     "execution_count": 12,
     "metadata": {},
     "output_type": "execute_result"
    }
   ],
   "source": [
    "chain.invoke({\"subject\": \"미국 국립공원\"})"
   ]
  },
  {
   "cell_type": "markdown",
   "metadata": {},
   "source": [
    "### StructuredOuputParser"
   ]
  },
  {
   "cell_type": "code",
   "execution_count": 13,
   "metadata": {},
   "outputs": [],
   "source": [
    "from langchain.output_parsers import ResponseSchema, StructuredOutputParser\n",
    "from langchain_core.prompts import PromptTemplate\n",
    "from langchain_openai import ChatOpenAI\n",
    "\n",
    "response_schemas = [\n",
    "    ResponseSchema(name=\"answer\", description=\"사용자의 질문에 대한 답변\"),\n",
    "    ResponseSchema(\n",
    "        name=\"source\",\n",
    "        description=\"사용자의 질문에 답하기 위해 사용된 출처의 웹사이트 주소를 기록합니다.\",\n",
    "    ),\n",
    "]\n",
    "output_parser = StructuredOutputParser.from_response_schemas(response_schemas)"
   ]
  },
  {
   "cell_type": "code",
   "execution_count": 14,
   "metadata": {},
   "outputs": [
    {
     "data": {
      "text/plain": [
       "'The output should be a markdown code snippet formatted in the following schema, including the leading and trailing \"```json\" and \"```\":\\n\\n```json\\n{\\n\\t\"answer\": string  // 사용자의 질문에 대한 답변\\n\\t\"source\": string  // 사용자의 질문에 답하기 위해 사용된 출처의 웹사이트 주소를 기록합니다.\\n}\\n```'"
      ]
     },
     "execution_count": 14,
     "metadata": {},
     "output_type": "execute_result"
    }
   ],
   "source": [
    "format_instructions = output_parser.get_format_instructions()\n",
    "format_instructions"
   ]
  },
  {
   "cell_type": "code",
   "execution_count": 15,
   "metadata": {},
   "outputs": [],
   "source": [
    "prompt = PromptTemplate(\n",
    "    template=\"answer the users question as best as possible.\\n{format_instructions}\\n{question}\",\n",
    "    input_variables=[\"question\"],\n",
    "    partial_variables={\"format_instructions\": format_instructions},\n",
    ")"
   ]
  },
  {
   "cell_type": "code",
   "execution_count": 16,
   "metadata": {},
   "outputs": [],
   "source": [
    "model = ChatOpenAI(temperature=0, model_name=os.getenv(\"OPENAI_DEFAULT_MODEL\"))\n",
    "chain = prompt | model | output_parser  "
   ]
  },
  {
   "cell_type": "code",
   "execution_count": 17,
   "metadata": {},
   "outputs": [
    {
     "data": {
      "text/plain": [
       "{'answer': 'OpenAI의 창립자는 엘론 머스크(Elon Musk), 샘 알트만(Sam Altman), 그렉 브록만(Greg Brockman), Ilya Sutskever, Wojciech Zaremba, John Schulman 등입니다. 이들은 2015년에 OpenAI를 설립했습니다.',\n",
       " 'source': 'https://openai.com/about/'}"
      ]
     },
     "execution_count": 17,
     "metadata": {},
     "output_type": "execute_result"
    }
   ],
   "source": [
    "chain.invoke({\"question\": \"OpenAI의 창업자는 누구인가요?\"})"
   ]
  },
  {
   "cell_type": "markdown",
   "metadata": {},
   "source": [
    "### JsonOutputParser"
   ]
  },
  {
   "cell_type": "code",
   "execution_count": 18,
   "metadata": {},
   "outputs": [],
   "source": [
    "from langchain_core.prompts import ChatPromptTemplate\n",
    "from langchain_core.output_parsers import JsonOutputParser\n",
    "from pydantic import BaseModel, Field\n",
    "from langchain_openai import ChatOpenAI"
   ]
  },
  {
   "cell_type": "code",
   "execution_count": 19,
   "metadata": {},
   "outputs": [],
   "source": [
    "model = ChatOpenAI(temperature=0, model_name=os.getenv(\"OPENAI_DEFAULT_MODEL\"))"
   ]
  },
  {
   "cell_type": "code",
   "execution_count": 20,
   "metadata": {},
   "outputs": [],
   "source": [
    "class Topic(BaseModel):\n",
    "    description: str = Field(description=\"주제에 대한 간결한 설명\")\n",
    "    keywords: str = Field(description=\"설명에 대한 주요 키워드(2개 이상)\")"
   ]
  },
  {
   "cell_type": "code",
   "execution_count": 21,
   "metadata": {},
   "outputs": [
    {
     "data": {
      "text/plain": [
       "{'description': \"도널드 트럼프의 외교정책은 '미국 우선주의'를 중심으로 하여 무역 협정 재협상, NATO 동맹국의 방위비 분담 증대 요구, 이란 핵 합의 탈퇴, 중국과의 무역 전쟁 등을 포함합니다.\",\n",
       " 'keywords': '미국 우선주의, 무역 전쟁'}"
      ]
     },
     "execution_count": 21,
     "metadata": {},
     "output_type": "execute_result"
    }
   ],
   "source": [
    "question = \"도널드 트럼프의 외교정책에 대해서 설명해주세요.\"\n",
    "\n",
    "parser = JsonOutputParser(pydantic_object=Topic)\n",
    "prompt = ChatPromptTemplate.from_messages(\n",
    "    [\n",
    "        (\"system\", \"당신은 친절한 AI 어시스턴트 입니다. 질문에 간단하게 답변하세요.\"),\n",
    "        (\"user\", \"#Format: {format_instructions}\\n\\n#Question: {question}\"),\n",
    "    ]\n",
    ")\n",
    "prompt = prompt.partial(format_instructions=parser.get_format_instructions())\n",
    "\n",
    "chain = prompt | model | parser  \n",
    "\n",
    "chain.invoke({\"question\": question})"
   ]
  },
  {
   "cell_type": "code",
   "execution_count": 22,
   "metadata": {},
   "outputs": [
    {
     "name": "stdout",
     "output_type": "stream",
     "text": [
      "{'도널드_트럼프의_외교정책': {'주요_특징': ['미국 우선주의: 미국의 이익을 최우선으로 고려하는 정책.', '무역전쟁: 중국과의 무역 갈등을 통해 관세를 부과하고 무역 불균형 해소를 목표로 함.', '북한과의 대화: 김정은과의 정상회담을 통해 핵 문제 해결을 시도.', 'NATO 및 동맹국에 대한 압박: 동맹국들이 방위비를 더 많이 부담하도록 요구.', '이란 핵 합의 탈퇴: 이란과의 핵 합의를 폐기하고 제재를 강화.'], '비판': ['국제 협력 약화: 다자간 협력보다는 일방적인 접근을 선호.', '동맹국과의 관계 악화: 전통적인 동맹국들과의 신뢰 관계가 약화됨.', '무역 갈등의 부작용: 글로벌 경제에 부정적인 영향을 미침.']}}\n"
     ]
    }
   ],
   "source": [
    "question = \"도널드 트럼프의 외교정책에 대해서 설명해주세요.\"\n",
    "parser = JsonOutputParser()\n",
    "\n",
    "prompt = ChatPromptTemplate.from_messages(\n",
    "    [\n",
    "        (\"system\", \"당신은 친절한 AI 어시스턴트 입니다. 질문에 간단하게 답변하세요.\"),\n",
    "        (\"user\", \"#Format: {format_instructions}\\n\\n#Question: {question}\"),\n",
    "    ]\n",
    ")\n",
    "\n",
    "prompt = prompt.partial(format_instructions=parser.get_format_instructions())\n",
    "\n",
    "chain = prompt | model | parser\n",
    "\n",
    "response = chain.invoke({\"question\": question})\n",
    "\n",
    "print(response)"
   ]
  },
  {
   "cell_type": "code",
   "execution_count": 23,
   "metadata": {},
   "outputs": [
    {
     "name": "stdout",
     "output_type": "stream",
     "text": [
      "{'description': \"도널드 트럼프의 외교정책은 '미국 우선주의'를 중심으로 하며, 무역 협정 재협상, NATO 및 동맹국에 대한 방위비 분담 요구, 이란 핵 합의 탈퇴, 북한과의 정상 회담 등으로 특징지어집니다. 또한, 중국과의 무역 전쟁을 통해 경제적 압박을 가하고, 이민 정책을 강화하는 등의 접근을 취했습니다.\", 'keywords': ['미국 우선주의', '무역 협정', 'NATO', '방위비 분담', '이란 핵 합의', '북한 정상 회담', '중국 무역 전쟁', '이민 정책']}\n"
     ]
    }
   ],
   "source": [
    "question = \"도널드 트럼프의 외교정책에 대해서 설명해주세요. 설명은 'description'에, 키워드는 'keywords'에 기록해주세요.\"\n",
    "\n",
    "parser = JsonOutputParser()\n",
    "\n",
    "prompt = ChatPromptTemplate.from_messages(\n",
    "    [\n",
    "        (\"system\", \"당신은 친절한 AI 어시스턴트 입니다. 질문에 간단하게 답변하세요.\"),\n",
    "        (\"user\", \"#Format: {format_instructions}\\n\\n#Question: {question}\"),\n",
    "    ]\n",
    ")\n",
    "\n",
    "prompt = prompt.partial(format_instructions=parser.get_format_instructions())\n",
    "\n",
    "chain = prompt | model | parser\n",
    "\n",
    "response = chain.invoke({\"question\": question})\n",
    "\n",
    "print(response)"
   ]
  },
  {
   "cell_type": "markdown",
   "metadata": {},
   "source": [
    "### DatetimeOutputParser"
   ]
  },
  {
   "cell_type": "code",
   "execution_count": 24,
   "metadata": {},
   "outputs": [
    {
     "data": {
      "text/plain": [
       "PromptTemplate(input_variables=['question'], input_types={}, partial_variables={'format_instructions': \"Write a datetime string that matches the following pattern: '%Y-%m-%d'.\\n\\nExamples: 1923-03-31, 1749-11-21, 201-01-20\\n\\nReturn ONLY this string, no other words!\"}, template='Answer the users question:\\n\\n#Format Instructions: \\n{format_instructions}\\n\\n#Question: \\n{question}\\n\\n#Answer:')"
      ]
     },
     "execution_count": 24,
     "metadata": {},
     "output_type": "execute_result"
    }
   ],
   "source": [
    "from langchain.output_parsers import DatetimeOutputParser\n",
    "from langchain.prompts import PromptTemplate\n",
    "from langchain_openai import ChatOpenAI\n",
    "\n",
    "output_parser = DatetimeOutputParser()\n",
    "output_parser.format = \"%Y-%m-%d\"\n",
    "\n",
    "template = \"\"\"Answer the users question:\\n\\n#Format Instructions: \\n{format_instructions}\\n\\n#Question: \\n{question}\\n\\n#Answer:\"\"\"\n",
    "\n",
    "prompt = PromptTemplate.from_template(\n",
    "    template,\n",
    "    partial_variables={\n",
    "        \"format_instructions\": output_parser.get_format_instructions()\n",
    "    }\n",
    ")\n",
    "\n",
    "prompt"
   ]
  },
  {
   "cell_type": "code",
   "execution_count": 25,
   "metadata": {},
   "outputs": [
    {
     "data": {
      "text/plain": [
       "datetime.datetime(2009, 1, 20, 0, 0)"
      ]
     },
     "execution_count": 25,
     "metadata": {},
     "output_type": "execute_result"
    }
   ],
   "source": [
    "chain = prompt | ChatOpenAI() | output_parser\n",
    "output = chain.invoke({\"question\": \"오바마 대통령이 취임한 날짜는 언제인가?\"})\n",
    "output"
   ]
  },
  {
   "cell_type": "code",
   "execution_count": 26,
   "metadata": {},
   "outputs": [
    {
     "data": {
      "text/plain": [
       "'2009-01-20'"
      ]
     },
     "execution_count": 26,
     "metadata": {},
     "output_type": "execute_result"
    }
   ],
   "source": [
    "output.strftime(\"%Y-%m-%d\")"
   ]
  },
  {
   "cell_type": "markdown",
   "metadata": {},
   "source": [
    "### EnumOutputParser"
   ]
  },
  {
   "cell_type": "code",
   "execution_count": 27,
   "metadata": {},
   "outputs": [
    {
     "data": {
      "text/plain": [
       "'Select one of the following options: 빨간색, 초록색, 파란색'"
      ]
     },
     "execution_count": 27,
     "metadata": {},
     "output_type": "execute_result"
    }
   ],
   "source": [
    "from langchain.output_parsers.enum import EnumOutputParser\n",
    "from enum import Enum\n",
    "\n",
    "class Colors(Enum):\n",
    "    RED = \"빨간색\"\n",
    "    GREEN = \"초록색\"\n",
    "    BLUE = \"파란색\"\n",
    "\n",
    "parser = EnumOutputParser(enum=Colors)\n",
    "parser.get_format_instructions()"
   ]
  },
  {
   "cell_type": "code",
   "execution_count": 28,
   "metadata": {},
   "outputs": [],
   "source": [
    "from langchain_core.prompts import PromptTemplate\n",
    "from langchain_openai import ChatOpenAI\n",
    "\n",
    "prompt = PromptTemplate.from_template(\n",
    "    \"\"\"다음의 물체는 어떤 색깔인가요?\n",
    "\n",
    "Object: {object}\n",
    "\n",
    "Instructions: {instructions}\"\"\"\n",
    ").partial(instructions=parser.get_format_instructions())\n",
    "\n",
    "chain = prompt | ChatOpenAI() | parser"
   ]
  },
  {
   "cell_type": "code",
   "execution_count": 29,
   "metadata": {},
   "outputs": [
    {
     "name": "stdout",
     "output_type": "stream",
     "text": [
      "Colors.BLUE\n"
     ]
    }
   ],
   "source": [
    "response = chain.invoke({\"object\": \"하늘\"}) \n",
    "print(response)"
   ]
  },
  {
   "cell_type": "markdown",
   "metadata": {},
   "source": [
    "### OutputFixingParser"
   ]
  },
  {
   "cell_type": "code",
   "execution_count": 30,
   "metadata": {},
   "outputs": [],
   "source": [
    "from langchain.output_parsers import PydanticOutputParser, OutputFixingParser\n",
    "from langchain.chat_models import ChatOpenAI\n",
    "from pydantic import BaseModel, Field\n",
    "from typing import List"
   ]
  },
  {
   "cell_type": "code",
   "execution_count": 31,
   "metadata": {},
   "outputs": [],
   "source": [
    "class Movie(BaseModel):\n",
    "    title: str = Field(description=\"영화 제목\")\n",
    "    director: str = Field(description=\"영화 감독\")\n",
    "    year: int = Field(description=\"개봉 연도\")\n",
    "    genres: List[str] = Field(description=\"영화 장르 목록\")"
   ]
  },
  {
   "cell_type": "code",
   "execution_count": 32,
   "metadata": {},
   "outputs": [
    {
     "data": {
      "text/plain": [
       "'The output should be formatted as a JSON instance that conforms to the JSON schema below.\\n\\nAs an example, for the schema {\"properties\": {\"foo\": {\"title\": \"Foo\", \"description\": \"a list of strings\", \"type\": \"array\", \"items\": {\"type\": \"string\"}}}, \"required\": [\"foo\"]}\\nthe object {\"foo\": [\"bar\", \"baz\"]} is a well-formatted instance of the schema. The object {\"properties\": {\"foo\": [\"bar\", \"baz\"]}} is not well-formatted.\\n\\nHere is the output schema:\\n```\\n{\"properties\": {\"title\": {\"description\": \"영화 제목\", \"title\": \"Title\", \"type\": \"string\"}, \"director\": {\"description\": \"영화 감독\", \"title\": \"Director\", \"type\": \"string\"}, \"year\": {\"description\": \"개봉 연도\", \"title\": \"Year\", \"type\": \"integer\"}, \"genres\": {\"description\": \"영화 장르 목록\", \"items\": {\"type\": \"string\"}, \"title\": \"Genres\", \"type\": \"array\"}}, \"required\": [\"title\", \"director\", \"year\", \"genres\"]}\\n```'"
      ]
     },
     "execution_count": 32,
     "metadata": {},
     "output_type": "execute_result"
    }
   ],
   "source": [
    "parser = PydanticOutputParser(pydantic_object=Movie)\n",
    "parser.get_format_instructions()"
   ]
  },
  {
   "cell_type": "code",
   "execution_count": 33,
   "metadata": {},
   "outputs": [
    {
     "name": "stderr",
     "output_type": "stream",
     "text": [
      "/tmp/ipykernel_68858/304468780.py:3: LangChainDeprecationWarning: The class `ChatOpenAI` was deprecated in LangChain 0.0.10 and will be removed in 1.0. An updated version of the class exists in the :class:`~langchain-openai package and should be used instead. To use it run `pip install -U :class:`~langchain-openai` and import as `from :class:`~langchain_openai import ChatOpenAI``.\n",
      "  llm = ChatOpenAI(temperature=0, model_name=os.getenv(\"OPENAI_DEFAULT_MODEL\"))\n"
     ]
    },
    {
     "data": {
      "text/plain": [
       "'The output should be formatted as a JSON instance that conforms to the JSON schema below.\\n\\nAs an example, for the schema {\"properties\": {\"foo\": {\"title\": \"Foo\", \"description\": \"a list of strings\", \"type\": \"array\", \"items\": {\"type\": \"string\"}}}, \"required\": [\"foo\"]}\\nthe object {\"foo\": [\"bar\", \"baz\"]} is a well-formatted instance of the schema. The object {\"properties\": {\"foo\": [\"bar\", \"baz\"]}} is not well-formatted.\\n\\nHere is the output schema:\\n```\\n{\"properties\": {\"title\": {\"description\": \"영화 제목\", \"title\": \"Title\", \"type\": \"string\"}, \"director\": {\"description\": \"영화 감독\", \"title\": \"Director\", \"type\": \"string\"}, \"year\": {\"description\": \"개봉 연도\", \"title\": \"Year\", \"type\": \"integer\"}, \"genres\": {\"description\": \"영화 장르 목록\", \"items\": {\"type\": \"string\"}, \"title\": \"Genres\", \"type\": \"array\"}}, \"required\": [\"title\", \"director\", \"year\", \"genres\"]}\\n```'"
      ]
     },
     "execution_count": 33,
     "metadata": {},
     "output_type": "execute_result"
    }
   ],
   "source": [
    "import os\n",
    "\n",
    "llm = ChatOpenAI(temperature=0, model_name=os.getenv(\"OPENAI_DEFAULT_MODEL\"))\n",
    "fixing_parser = OutputFixingParser.from_llm(parser=parser, llm=llm)\n",
    "fixing_parser.get_format_instructions()"
   ]
  },
  {
   "cell_type": "code",
   "execution_count": 34,
   "metadata": {},
   "outputs": [],
   "source": [
    "# 연도가 문자열이며 장르가 배열이 아님\n",
    "incorrect_output = \"\"\"\n",
    "{\n",
    "  \"title\": \"기생충\",\n",
    "  \"director\": \"봉준호\",\n",
    "  \"year\": \"2019\", \n",
    "  \"genres\": \"드라마, 스릴러, 블랙 코미디\"\n",
    "}\n",
    "\"\"\""
   ]
  },
  {
   "cell_type": "code",
   "execution_count": 35,
   "metadata": {},
   "outputs": [
    {
     "name": "stdout",
     "output_type": "stream",
     "text": [
      "오류 발생: Failed to parse Movie from completion {\"title\": \"\\uae30\\uc0dd\\ucda9\", \"director\": \"\\ubd09\\uc900\\ud638\", \"year\": \"2019\", \"genres\": \"\\ub4dc\\ub77c\\ub9c8, \\uc2a4\\ub9b4\\ub7ec, \\ube14\\ub799 \\ucf54\\ubbf8\\ub514\"}. Got: 1 validation error for Movie\n",
      "genres\n",
      "  Input should be a valid list [type=list_type, input_value='드라마, 스릴러, 블랙 코미디', input_type=str]\n",
      "    For further information visit https://errors.pydantic.dev/2.10/v/list_type\n",
      "For troubleshooting, visit: https://python.langchain.com/docs/troubleshooting/errors/OUTPUT_PARSING_FAILURE \n"
     ]
    }
   ],
   "source": [
    "try:\n",
    "    regular_result = parser.parse(incorrect_output) \n",
    "    print(regular_result)\n",
    "except Exception as e:\n",
    "    print(f\"오류 발생: {e}\")"
   ]
  },
  {
   "cell_type": "code",
   "execution_count": 36,
   "metadata": {},
   "outputs": [
    {
     "name": "stdout",
     "output_type": "stream",
     "text": [
      "title='기생충' director='봉준호' year=2019 genres=['드라마', '스릴러', '블랙 코미디']\n"
     ]
    }
   ],
   "source": [
    "try:\n",
    "    fixed_result = fixing_parser.parse(incorrect_output)\n",
    "    print(fixed_result)\n",
    "except Exception as e:\n",
    "    print(f\"오류 발생: {e}\")"
   ]
  },
  {
   "cell_type": "markdown",
   "metadata": {},
   "source": [
    "### Custom Output Parser"
   ]
  },
  {
   "cell_type": "code",
   "execution_count": 37,
   "metadata": {},
   "outputs": [],
   "source": [
    "from langchain.schema import BaseOutputParser\n",
    "from langchain.prompts import PromptTemplate\n",
    "from langchain_openai import ChatOpenAI"
   ]
  },
  {
   "cell_type": "code",
   "execution_count": 38,
   "metadata": {},
   "outputs": [],
   "source": [
    "class CommaSeparatedListOutputParser(BaseOutputParser):\n",
    "    \"\"\"\n",
    "    쉼표로 구분된 항목 목록을 파싱하는 간단한 출력 파서\n",
    "    \"\"\"\n",
    "    def parse(self, text: str) -> list:\n",
    "        cleaned_text = text.strip()\n",
    "        if not cleaned_text:\n",
    "            return []\n",
    "        items = [item.strip() for item in cleaned_text.split(\",\")]\n",
    "        return items"
   ]
  },
  {
   "cell_type": "code",
   "execution_count": 39,
   "metadata": {},
   "outputs": [],
   "source": [
    "template = \"\"\"\n",
    "다음 주제에 관련된 항목을 5개 나열해주세요: {topic}\n",
    "\n",
    "항목은 쉼표로 구분해 주세요.\n",
    "\"\"\"\n",
    "\n",
    "prompt = PromptTemplate(\n",
    "    template=template,\n",
    "    input_variables=[\"topic\"],\n",
    ")\n",
    "\n",
    "output_parser = CommaSeparatedListOutputParser()"
   ]
  },
  {
   "cell_type": "code",
   "execution_count": 40,
   "metadata": {},
   "outputs": [],
   "source": [
    "import os\n",
    "\n",
    "llm = ChatOpenAI(temperature=0, model_name=os.getenv(\"OPENAI_DEFAULT_MODEL\"))\n",
    "chain = prompt | llm | output_parser"
   ]
  },
  {
   "cell_type": "code",
   "execution_count": 41,
   "metadata": {},
   "outputs": [
    {
     "name": "stdout",
     "output_type": "stream",
     "text": [
      "['자연어 처리', '이미지 인식', '자율주행차', '의료 진단', '추천 시스템']\n",
      "<class 'list'>\n"
     ]
    }
   ],
   "source": [
    "result = chain.invoke({\"topic\": \"인공지능의 응용 분야\"})\n",
    "print(result) \n",
    "print(type(result)) "
   ]
  },
  {
   "cell_type": "code",
   "execution_count": 42,
   "metadata": {},
   "outputs": [
    {
     "name": "stdout",
     "output_type": "stream",
     "text": [
      "['김치', '비빔밥', '불고기', '떡볶이', '삼겹살']\n"
     ]
    }
   ],
   "source": [
    "result2 = chain.invoke({\"topic\": \"한국의 대표 음식\"})\n",
    "print(result2)"
   ]
  }
 ],
 "metadata": {
  "kernelspec": {
   "display_name": "Python 3",
   "language": "python",
   "name": "python3"
  },
  "language_info": {
   "codemirror_mode": {
    "name": "ipython",
    "version": 3
   },
   "file_extension": ".py",
   "mimetype": "text/x-python",
   "name": "python",
   "nbconvert_exporter": "python",
   "pygments_lexer": "ipython3",
   "version": "3.10.12"
  }
 },
 "nbformat": 4,
 "nbformat_minor": 2
}
